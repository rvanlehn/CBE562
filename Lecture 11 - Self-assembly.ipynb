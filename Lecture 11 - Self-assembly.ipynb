{
 "cells": [
  {
   "cell_type": "markdown",
   "metadata": {},
   "source": [
    "Instructions for using Jupyter Notebook: Go through each cell sequentially and run each code by pressing CTRL + ENTER on Windows or COMMAND + ENTER on Mac. You can run and move to the next cell by pressing SHIFT + ENTER. Alternatively, you can click the \"Run\" button at the top of the interface. Code is displayed if you wish to edit it in any way."
   ]
  },
  {
   "cell_type": "markdown",
   "metadata": {},
   "source": [
    "The video below illustrates the behavior of amphiphiles with short nonpolar tail groups in water (structure shown below).\n",
    "\n",
    "<img src=\"res/L11_short_tail.png\" alt=\"Amphiphile structure\" style=\"width: 250;\"/>\n",
    "\n",
    "The hydrophilic head groups of the amphiphiles are shown in red, and the nonpolar tail groups are shown in gray. The molecules are contained within a simulation cell of fixed volume that uses periodic boundary conditions, meaning that when a molecule exits the box through one side it re-enters the box through the opposite side. You will observe this behavior in the simulation trajectory. \n",
    "\n",
    "The image below shows a single configuration (a \"snapshot\") from a molecular dynamics (MD) simulation of these amphiphiles in water. Water molecules are shown as blue lines, the hydrophilic head groups of the amphiphiles are shown in red, and the nonpolar tail groups are shown in gray. Hydrogen atoms are not drawn for simplicity. This configuration will serve as a starting point for the simulation results shown below. Note that the amphiphiles are dispersed with water molecules solvating them.\n",
    "\n",
    "<img src=\"res/L11_amphiphiles_water.png\" width=\"400\"/>\n",
    "\n",
    "A MD simulation of these amphiphiles (with no water shown for simplicity) is below. For these amphiphiles, no self-assembly is observed. \n",
    "\n",
    "You can manipulate the video by clicking and dragging to rotate, right-clicking and dragging to translate, and using the mouse wheel to zoom-in and out. Pressing r on the keyboard will reset the view. You can play the trajectory and manipulate the specific frame using the scrollbar at bottom."
   ]
  },
  {
   "cell_type": "code",
   "execution_count": 1,
   "metadata": {},
   "outputs": [
    {
     "data": {
      "application/vnd.jupyter.widget-view+json": {
       "model_id": "c4ac0362a0a84e8fa8d714dfa63d0176",
       "version_major": 2,
       "version_minor": 0
      },
      "text/plain": []
     },
     "metadata": {},
     "output_type": "display_data"
    },
    {
     "data": {
      "application/vnd.jupyter.widget-view+json": {
       "model_id": "72a7dd8fbde1439fabd8e0a473a43a77",
       "version_major": 2,
       "version_minor": 0
      },
      "text/plain": [
       "NGLWidget(max_frame=258)"
      ]
     },
     "metadata": {},
     "output_type": "display_data"
    }
   ],
   "source": [
    "## IMPORTING MODULES (Modules are always loaded in the beginning of the script)\n",
    "import nglview as ng\n",
    "import mdtraj as md\n",
    "\n",
    "trajc4 = md.load('res/L11_c4_hsl_nowat.xtc', top='res/L11_c4_hsl_nowat.gro')\n",
    "\n",
    "view = ng.show_mdtraj(trajc4)\n",
    "view.clear_representations()\n",
    "## CENTERING THE VIEW\n",
    "view.center()\n",
    "\n",
    "# this adds visualization of the amphiphiles to the system\n",
    "view.add_representation('spaceFill', selection='.C3 .C4 .C5 .N .O1 .O2 .O3 .O4 .OH2 .C9', color=\"red\")\n",
    "view.add_representation('spaceFill', selection='.C6 .C7 .C8', color=\"gray\")\n",
    "view.camera = 'orthographic'\n",
    "view"
   ]
  },
  {
   "cell_type": "markdown",
   "metadata": {},
   "source": [
    "The video below illustrates the behavior of amphiphiles with long nonpolar tail groups in water (structure shown below). The same number of amphiphiles are added to the simulation box, but this time they are observed to self-assemble into a spherical micelle. Notice that the spherical micelle fluctuates in shape throughout the simulation trajectory. \n",
    "\n",
    "<img src=\"res/L11_long_tail.png\" alt=\"Amphiphile structure\" style=\"width: 350;\"/>\n",
    "\n",
    "You can manipulate the video by clicking and dragging to rotate, right-clicking and dragging to translate, and using the mouse wheel to zoom-in and out. Pressing r on the keyboard will reset the view. You can play the trajectory and manipulate the specific frame using the scrollbar at bottom."
   ]
  },
  {
   "cell_type": "code",
   "execution_count": 2,
   "metadata": {},
   "outputs": [
    {
     "data": {
      "application/vnd.jupyter.widget-view+json": {
       "model_id": "b6c9c165f0c841dea813dd9024dae4b1",
       "version_major": 2,
       "version_minor": 0
      },
      "text/plain": [
       "NGLWidget(max_frame=258)"
      ]
     },
     "metadata": {},
     "output_type": "display_data"
    }
   ],
   "source": [
    "trajsphere = md.load('res/L11_sphere_nowat.xtc', top='res/L11_sphere_nowat.gro')\n",
    "\n",
    "view = ng.show_mdtraj(trajsphere)\n",
    "view.clear_representations()\n",
    "## CENTERING THE VIEW\n",
    "view.center()\n",
    "\n",
    "# this adds visualization of the amphiphiles to the system\n",
    "view.add_representation('spaceFill', selection='.C3 .C4 .C5 .C6 .C7 .C8 .N .O1 .O2 .O3 .O4 .OH2 .C9', color=\"red\")\n",
    "view.add_representation('spaceFill', selection='.C1 .C2 .C10 .C11 .C12 .C13 .C14 .C15 .C16', color=\"gray\")\n",
    "view.camera = 'orthographic'\n",
    "view"
   ]
  }
 ],
 "metadata": {
  "kernelspec": {
   "display_name": "Python 3",
   "language": "python",
   "name": "python3"
  },
  "language_info": {
   "codemirror_mode": {
    "name": "ipython",
    "version": 3
   },
   "file_extension": ".py",
   "mimetype": "text/x-python",
   "name": "python",
   "nbconvert_exporter": "python",
   "pygments_lexer": "ipython3",
   "version": "3.7.6"
  }
 },
 "nbformat": 4,
 "nbformat_minor": 4
}
