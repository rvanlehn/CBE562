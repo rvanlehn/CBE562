{
 "cells": [
  {
   "cell_type": "markdown",
   "metadata": {},
   "source": [
    "Instructions for using Jupyter Notebook: Go through each cell sequentially and run each code by pressing CTRL + ENTER on Windows or COMMAND + ENTER on Mac. You can run and move to the next cell by pressing SHIFT + ENTER. Alternatively, you can click the \"Run\" button at the top of the interface. Code is displayed if you wish to edit it in any way."
   ]
  },
  {
   "cell_type": "markdown",
   "metadata": {},
   "source": [
    "Two configurations of solids are shown below. The first configuration is of a set of individual particles that interact only by isotropic Lennard-Jones potentials. This structure is representative of solid argon for example. The isotropic potential leads to a face-centered cubic lattice in which each atom has 12 nearest neighbors. The second configuration is of water molecules frozen into the Ice Ih phase, which is the most common phase of ice. The directionality of hydrogen bonds leads to a very different structure in which each water molecule has 4 nearest neighbors, leading to a hexagoal arrangement when viewed along two axes. The water configuration is shown with oxygen atoms in red and hydrogen atoms in white with the representation emphasizing the molecular structure.\n",
    "\n",
    "You can manipulate the configuration by clicking and dragging to rotate, right-clicking and dragging to translate, and using the mouse wheel to zoom-in and out. Pressing r on the keyboard will reset the view."
   ]
  },
  {
   "cell_type": "code",
   "execution_count": 1,
   "metadata": {},
   "outputs": [
    {
     "data": {
      "application/vnd.jupyter.widget-view+json": {
       "model_id": "65058a35fd2e49e7963f434c0210b5a4",
       "version_major": 2,
       "version_minor": 0
      },
      "text/plain": []
     },
     "metadata": {},
     "output_type": "display_data"
    },
    {
     "name": "stderr",
     "output_type": "stream",
     "text": [
      "C:\\Users\\rvanlehn\\anaconda3\\lib\\site-packages\\mdtraj\\core\\trajectory.py:422: UserWarning: top= kwarg ignored since file contains topology information\n",
      "  warnings.warn('top= kwarg ignored since file contains topology information')\n",
      "C:\\Users\\rvanlehn\\anaconda3\\lib\\site-packages\\mdtraj\\formats\\pdb\\pdbfile.py:194: RuntimeWarning: divide by zero encountered in true_divide\n",
      "  particle_density = traj.top.n_atoms / traj.unitcell_volumes[0]\n",
      "C:\\Users\\rvanlehn\\anaconda3\\lib\\site-packages\\mdtraj\\formats\\pdb\\pdbfile.py:198: UserWarning: Unlikely unit cell vectors detected in PDB file likely resulting from a dummy CRYST1 record. Discarding unit cell vectors.\n",
      "  'cell vectors.', category=UserWarning)\n"
     ]
    },
    {
     "data": {
      "application/vnd.jupyter.widget-view+json": {
       "model_id": "59f129b54cf14b79accd84333462f69a",
       "version_major": 2,
       "version_minor": 0
      },
      "text/plain": [
       "NGLWidget(max_frame=1)"
      ]
     },
     "metadata": {},
     "output_type": "display_data"
    }
   ],
   "source": [
    "import nglview as ng\n",
    "import mdtraj as md\n",
    "trajice = md.load('res/L5_ice.gro', top='res/L5_ice.gro')\n",
    "trajsolid = md.load('res/L5_fcc_solid.xyz', top='res/L5_fcc_solid.pdb')\n",
    "\n",
    "## PART 1: VISUALIZING LENNARD JONES SOLID\n",
    "view1 = ng.show_mdtraj(trajsolid)\n",
    "view1.center()\n",
    "view1.camera = 'orthographic'\n",
    "view1"
   ]
  },
  {
   "cell_type": "code",
   "execution_count": 2,
   "metadata": {},
   "outputs": [
    {
     "data": {
      "application/vnd.jupyter.widget-view+json": {
       "model_id": "776711b5dd574ac888fd6d415ae747e1",
       "version_major": 2,
       "version_minor": 0
      },
      "text/plain": [
       "NGLWidget()"
      ]
     },
     "metadata": {},
     "output_type": "display_data"
    }
   ],
   "source": [
    "## PART 2: VISUALIZING ICE\n",
    "view2 = ng.show_mdtraj(trajice)\n",
    "view2.clear_representations()\n",
    "view2.center()\n",
    "view2.add_representation('licorice', selection='all')\n",
    "view2.camera = 'orthographic'\n",
    "view2"
   ]
  }
 ],
 "metadata": {
  "kernelspec": {
   "display_name": "Python 3",
   "language": "python",
   "name": "python3"
  },
  "language_info": {
   "codemirror_mode": {
    "name": "ipython",
    "version": 3
   },
   "file_extension": ".py",
   "mimetype": "text/x-python",
   "name": "python",
   "nbconvert_exporter": "python",
   "pygments_lexer": "ipython3",
   "version": "3.7.6"
  }
 },
 "nbformat": 4,
 "nbformat_minor": 4
}
