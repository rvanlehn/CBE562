{
 "cells": [
  {
   "cell_type": "markdown",
   "metadata": {},
   "source": [
    "Instructions for using Jupyter Notebook: Go through each cell sequentially and run each code by pressing CTRL + ENTER on Windows or COMMAND + ENTER on Mac. You can run and move to the next cell by pressing SHIFT + ENTER. Alternatively, you can click the \"Run\" button at the top of the interface. Code is displayed if you wish to edit it in any way."
   ]
  },
  {
   "cell_type": "markdown",
   "metadata": {},
   "source": [
    "Three videos are illustrated below. All three videos show 2D systems of Lennard-Jones particles - that is, particles that interact via simple isotropic potentials that prevent particle overlap and have a tunable attractive interaction. The densities and temperatures of the three systems are manipulated to represent a 2D gas, liquid, and solid. Playing the videos illustrates the configurations accessible to these three systems. There are two cells that should be executed for each system: the first cell loads the trajectory, then the second cell causes the trajectory to highlight atoms within a small distance (1.5 particle diameters) from the center of a 'tagged' particle to show how the relative probability of identifying nearby atoms changes in different phases of matter. For technical reasons these cells have to be run sequentially. These differences can then be compared to the radial distribution functions shown for each system (calculated from larger versions of these simulations).\n",
    "\n",
    "You can manipulate the video by clicking and dragging to rotate, right-clicking and dragging to translate, and using the mouse wheel to zoom-in and out. Pressing r on the keyboard will reset the view. You can play the trajectory and manipulate the specific frame using the scrollbar at bottom."
   ]
  },
  {
   "cell_type": "code",
   "execution_count": 9,
   "metadata": {},
   "outputs": [
    {
     "data": {
      "application/vnd.jupyter.widget-view+json": {
       "model_id": "56c19e7905294d3fa094c326a9c8b012",
       "version_major": 2,
       "version_minor": 0
      },
      "text/plain": [
       "NGLWidget(max_frame=20)"
      ]
     },
     "metadata": {},
     "output_type": "display_data"
    }
   ],
   "source": [
    "import nglview as ng\n",
    "import mdtraj as md\n",
    "import numpy as np\n",
    "import time\n",
    "\n",
    "trajgas = md.load('res/L5_gas_small.xyz', top='res/L5_topology_small.pdb')\n",
    "trajliquid = md.load('res/L5_liquid_small.xyz', top='res/L5_topology_small.pdb')\n",
    "trajsolid = md.load('res/L5_solid_small.xyz', top='res/L5_topology_small.pdb')\n",
    "\n",
    "# First load the solid\n",
    "v1 = ng.show_mdtraj(trajsolid)\n",
    "v1.clear_representations()\n",
    "v1.add_representation('point', selection='all', color='gray')\n",
    "v1.camera='orthographic'\n",
    "v1"
   ]
  },
  {
   "cell_type": "code",
   "execution_count": 10,
   "metadata": {},
   "outputs": [],
   "source": [
    "# this now highlights particles of interest - first select atoms of interest\n",
    "atom_idx = np.array([70]) # arbitrary atom near center\n",
    "\n",
    "# selects particles within a distance of 0.15 from the tagged particle (note that 0.1 = particle diameter)\n",
    "solid_neighbors = md.compute_neighbors(trajsolid, 0.15, atom_idx)\n",
    "for frame in range(trajsolid.n_frames):\n",
    "    v1.clear_representations()\n",
    "    # add representation and update time to this frame\n",
    "    v1.add_representation('point', selection='all', color='gray')\n",
    "    v1.add_representation('point', selection=solid_neighbors[frame], color='blue')\n",
    "    v1.add_representation('point', selection=atom_idx, color='red')\n",
    "    v1.frame = frame\n",
    "    time.sleep(0.7)"
   ]
  },
  {
   "cell_type": "markdown",
   "metadata": {},
   "source": [
    "You can see from the video above that there are essentially 6 neighbors to the central particles throughout the entire trajectory, suggesting a large value of g(r) at a distance close to a single particle diameter. Indeed, the plot of g(r) below shows a large first peak.\n",
    "\n",
    "<img src=\"res/L5_solid_rdf.png\" alt=\"RDFs\" style=\"width: 500px;\"/>"
   ]
  },
  {
   "cell_type": "code",
   "execution_count": 15,
   "metadata": {},
   "outputs": [
    {
     "data": {
      "application/vnd.jupyter.widget-view+json": {
       "model_id": "b460ab346f65478786470bd6834886f3",
       "version_major": 2,
       "version_minor": 0
      },
      "text/plain": [
       "NGLWidget(max_frame=20)"
      ]
     },
     "metadata": {},
     "output_type": "display_data"
    }
   ],
   "source": [
    "# Next load the liquid\n",
    "v2 = ng.show_mdtraj(trajliquid)\n",
    "v2.clear_representations()\n",
    "v2.add_representation('point', selection='all', color='gray')\n",
    "v2.camera='orthographic'\n",
    "v2"
   ]
  },
  {
   "cell_type": "code",
   "execution_count": 17,
   "metadata": {},
   "outputs": [],
   "source": [
    "# this now highlights particles of interest - first select atoms of interest\n",
    "atom_idx = np.array([70]) # arbitrary atom near center\n",
    "\n",
    "# selects particles within a distance of 0.15 from the tagged particle (note that 0.1 = particle diameter)\n",
    "liquid_neighbors = md.compute_neighbors(trajliquid, 0.15, atom_idx)\n",
    "for frame in range(trajliquid.n_frames):\n",
    "    v2.clear_representations()\n",
    "    # add representation and update time to this frame\n",
    "    v2.add_representation('point', selection='all', color='gray')\n",
    "    v2.add_representation('point', selection=liquid_neighbors[frame], color='blue')\n",
    "    v2.add_representation('point', selection=atom_idx, color='red')\n",
    "    v2.frame = frame\n",
    "    time.sleep(0.7)\n"
   ]
  },
  {
   "cell_type": "markdown",
   "metadata": {},
   "source": [
    "The liquid video shows more fluctuations in the number of nearby particles, which suggests a broader probability distribution of particle positions relative to the tagged particle. This is reflected in the much broader radial distirbution function for the liquid shown below.\n",
    "\n",
    "<img src=\"res/L5_liquid_rdf.png\" alt=\"RDFs\" style=\"width: 500px;\"/>"
   ]
  },
  {
   "cell_type": "code",
   "execution_count": 13,
   "metadata": {},
   "outputs": [
    {
     "data": {
      "application/vnd.jupyter.widget-view+json": {
       "model_id": "076d3d13a20b4e4b9eda6787700f3324",
       "version_major": 2,
       "version_minor": 0
      },
      "text/plain": [
       "NGLWidget(max_frame=20)"
      ]
     },
     "metadata": {},
     "output_type": "display_data"
    }
   ],
   "source": [
    "# Finally the gas - note that because this is lower density I use a slightly larger representation\n",
    "v3 = ng.show_mdtraj(trajgas)\n",
    "v3.clear_representations()\n",
    "v3.add_representation('spacefill', selection='all', color='gray')\n",
    "v3.camera='orthographic'\n",
    "v3"
   ]
  },
  {
   "cell_type": "code",
   "execution_count": 14,
   "metadata": {},
   "outputs": [],
   "source": [
    "# this now highlights particles of interest - first select atoms of interest\n",
    "atom_idx = np.array([70]) # arbitrary atom near center\n",
    "\n",
    "# selects particles within a distance of 0.16 from the tagged particle (note that 0.1 = particle diameter)\n",
    "gas_neighbors = md.compute_neighbors(trajgas, 0.15, atom_idx)\n",
    "for frame in range(trajgas.n_frames):\n",
    "    v3.clear_representations()\n",
    "    # add representation and update time to this frame\n",
    "    v3.add_representation('spacefill', selection='all', color='gray')\n",
    "    v3.add_representation('spacefill', selection=gas_neighbors[frame], color='blue')\n",
    "    v3.add_representation('spacefill', selection=atom_idx, color='red')\n",
    "    v3.frame = frame\n",
    "    time.sleep(0.7)"
   ]
  },
  {
   "cell_type": "markdown",
   "metadata": {},
   "source": [
    "The gas video shows that there appares to be a very small number of particles near the tagged particle at any given time. As expected, the corresponding plot of g(r) shows only a small peak that is substantially different from the prior two examples.\n",
    "\n",
    "<img src=\"res/L5_gas_rdf.png\" alt=\"RDFs\" style=\"width: 500px;\"/>\n",
    "\n",
    "Finally, for comparison this is all of the plots of g(r) plotted on top of each other to better illustratre the comparisons.\n",
    "\n",
    "<img src=\"res/L5_all_phases_rdf.png\" alt=\"RDFs\" style=\"width: 500px;\"/>"
   ]
  },
  {
   "cell_type": "markdown",
   "metadata": {},
   "source": [
    "Finally, we can also load a video of a binary mixture of 2D liquid-phase particles that interact via Lennard-Jones interactions. The parameters for the Lennard-Jones interactions were selected such that the particles tend to form clusters; the system is situated near a phase transition. Type A particles are shown in red and type B particles in blue. Playing the video shows the preferential interactions of particles of the same type with each other. Corresponding radial distribution functions calculated for this system are shown in the plot below.\n",
    "\n",
    "<img src=\"res/L5_binary_mixture_rdf.png\" alt=\"RDFs\" style=\"width: 500px;\"/>\n",
    "\n",
    "You can manipulate the video by clicking and dragging to rotate, right-clicking and dragging to translate, and using the mouse wheel to zoom-in and out. Pressing r on the keyboard will reset the view. You can play the trajectory and manipulate the specific frame using the scrollbar at bottom."
   ]
  },
  {
   "cell_type": "code",
   "execution_count": 18,
   "metadata": {},
   "outputs": [
    {
     "data": {
      "application/vnd.jupyter.widget-view+json": {
       "model_id": "92593a3df98f4655b642eec4ce3f2926",
       "version_major": 2,
       "version_minor": 0
      },
      "text/plain": [
       "NGLWidget(max_frame=1000)"
      ]
     },
     "metadata": {},
     "output_type": "display_data"
    }
   ],
   "source": [
    "trajbin = md.load('res/L5_binary.xyz', top='res/L5_topology_mix.pdb')\n",
    "\n",
    "viewbin = ng.show_mdtraj(trajbin)\n",
    "viewbin.clear_representations()\n",
    "viewbin.center()\n",
    "# this adds visualization of the amphiphiles to the system\n",
    "viewbin.add_representation('point', selection='name .He', color=\"red\")\n",
    "viewbin.add_representation('point', selection='name .H', color=\"blue\")\n",
    "viewbin.camera = 'orthographic'\n",
    "viewbin\n"
   ]
  }
 ],
 "metadata": {
  "kernelspec": {
   "display_name": "Python 3",
   "language": "python",
   "name": "python3"
  },
  "language_info": {
   "codemirror_mode": {
    "name": "ipython",
    "version": 3
   },
   "file_extension": ".py",
   "mimetype": "text/x-python",
   "name": "python",
   "nbconvert_exporter": "python",
   "pygments_lexer": "ipython3",
   "version": "3.7.6"
  }
 },
 "nbformat": 4,
 "nbformat_minor": 4
}
