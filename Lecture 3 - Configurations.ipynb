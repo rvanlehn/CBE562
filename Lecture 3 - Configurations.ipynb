{
 "cells": [
  {
   "cell_type": "markdown",
   "metadata": {},
   "source": [
    "Instructions for using Jupyter Notebook: Go through each cell sequentially and run each code by pressing CTRL + ENTER on Windows or COMMAND + ENTER on Mac. You can run and move to the next cell by pressing SHIFT + ENTER. Alternatively, you can click the \"Run\" button at the top of the interface. Code is displayed if you wish to edit it in any way."
   ]
  },
  {
   "cell_type": "markdown",
   "metadata": {},
   "source": [
    "Three videos are illustrated below. All three videos show 2D systems of Lennard-Jones particles - that is, particles that interact via simple isotropic potentials that prevent particle overlap and have a tunable attractive interaction. The densities and tmperatures of the three systems are manipulated to represent a 2D solid, liquid, and gas. Playing the videos illustrates the configurations accessible to these three systems. Each system is colored differently for clarity: the gas in red, the liquid in blue, and the solid in gray. The gas is visualized using a slightly different representation to make its molecules more visible since it is a very low density system. Note that you can play all 3 videos simultaneously if you wish.\n",
    "\n",
    "You can manipulate the video by clicking and dragging to rotate, right-clicking and dragging to translate, and using the mouse wheel to zoom-in and out. Pressing r on the keyboard will reset the view. You can play the trajectory and manipulate the specific frame using the scrollbar at bottom."
   ]
  },
  {
   "cell_type": "code",
   "execution_count": 9,
   "metadata": {},
   "outputs": [
    {
     "data": {
      "application/vnd.jupyter.widget-view+json": {
       "model_id": "165edc57ff44469f88ef59d0c6c3b2ef",
       "version_major": 2,
       "version_minor": 0
      },
      "text/plain": [
       "NGLWidget(max_frame=100)"
      ]
     },
     "metadata": {},
     "output_type": "display_data"
    }
   ],
   "source": [
    "## Visualizing 2D solid\n",
    "import nglview as ng\n",
    "import mdtraj as md\n",
    "trajgas = md.load('res/L3_gas.xyz', top='res/L3_topology.pdb')\n",
    "trajliquid = md.load('res/L3_liquid.xyz', top='res/L3_topology.pdb')\n",
    "trajsolid = md.load('res/L3_solid.xyz', top='res/L3_topology.pdb')\n",
    "\n",
    "view1 = ng.show_mdtraj(trajsolid)\n",
    "view1.clear_representations()\n",
    "view1.center()\n",
    "view1.add_representation('point', selection='all', color=\"gray\")\n",
    "view1.camera = 'orthographic'\n",
    "view1"
   ]
  },
  {
   "cell_type": "code",
   "execution_count": 10,
   "metadata": {},
   "outputs": [
    {
     "data": {
      "application/vnd.jupyter.widget-view+json": {
       "model_id": "86845910237f4ea8a54a9e00f47c1f51",
       "version_major": 2,
       "version_minor": 0
      },
      "text/plain": [
       "NGLWidget(max_frame=100)"
      ]
     },
     "metadata": {},
     "output_type": "display_data"
    }
   ],
   "source": [
    "## Visualizing 2D liquid\n",
    "view2 = ng.show_mdtraj(trajliquid)\n",
    "view2.clear_representations()\n",
    "view2.center()\n",
    "view2.add_representation('point', selection='all', color=\"blue\")\n",
    "view2.camera = 'orthographic'\n",
    "view2"
   ]
  },
  {
   "cell_type": "code",
   "execution_count": 11,
   "metadata": {},
   "outputs": [
    {
     "data": {
      "application/vnd.jupyter.widget-view+json": {
       "model_id": "d5b0498e560142b5a6e7b6bd9b78c5ac",
       "version_major": 2,
       "version_minor": 0
      },
      "text/plain": [
       "NGLWidget(max_frame=200)"
      ]
     },
     "metadata": {},
     "output_type": "display_data"
    }
   ],
   "source": [
    "## Visualizing 2D gas\n",
    "view3 = ng.show_mdtraj(trajgas)\n",
    "view3.clear_representations()\n",
    "view3.center()\n",
    "view3.add_representation('spaceFill', selection='all', color=\"red\")\n",
    "view3.camera = 'orthographic'\n",
    "view3"
   ]
  }
 ],
 "metadata": {
  "kernelspec": {
   "display_name": "Python 3",
   "language": "python",
   "name": "python3"
  },
  "language_info": {
   "codemirror_mode": {
    "name": "ipython",
    "version": 3
   },
   "file_extension": ".py",
   "mimetype": "text/x-python",
   "name": "python",
   "nbconvert_exporter": "python",
   "pygments_lexer": "ipython3",
   "version": "3.7.6"
  }
 },
 "nbformat": 4,
 "nbformat_minor": 4
}
