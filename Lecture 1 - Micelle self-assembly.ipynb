{
 "cells": [
  {
   "cell_type": "code",
   "execution_count": 3,
   "metadata": {},
   "outputs": [
    {
     "data": {
      "text/html": [
       "<script>\n",
       "code_show=true; \n",
       "function code_toggle() {\n",
       " if (code_show){\n",
       " $('div.input').hide();\n",
       " } else {\n",
       " $('div.input').show();\n",
       " }\n",
       " code_show = !code_show\n",
       "} \n",
       "$( document ).ready(code_toggle);\n",
       "</script>\n",
       "The raw code for this notebook can be hidden for easier reading.\n",
       "To toggle on/off the raw code, click <a href=\"javascript:code_toggle()\">here</a>."
      ],
      "text/plain": [
       "<IPython.core.display.HTML object>"
      ]
     },
     "execution_count": 3,
     "metadata": {},
     "output_type": "execute_result"
    }
   ],
   "source": [
    "from IPython.display import HTML\n",
    "HTML('''<script>\n",
    "code_show=true; \n",
    "function code_toggle() {\n",
    " if (code_show){\n",
    " $('div.input').hide();\n",
    " } else {\n",
    " $('div.input').show();\n",
    " }\n",
    " code_show = !code_show\n",
    "} \n",
    "$( document ).ready(code_toggle);\n",
    "</script>\n",
    "The raw code for this notebook can be hidden for easier reading.\n",
    "To toggle on/off the raw code, click <a href=\"javascript:code_toggle()\">here</a>.''')"
   ]
  },
  {
   "cell_type": "markdown",
   "metadata": {},
   "source": [
    "Instructions for using Jupyter Notebook:\n",
    "\n",
    "- Go through each cell sequentially and run each code by pressing CTRL + ENTER on Windows or COMMAND + ENTER on Mac. You can run and move to the next cell by pressing SHIFT + ENTER. Alternatively, you can click the \"Run\" button at the top of the interface.\n",
    "- By default, the code is not shown for students who only want to see the module contents. You can modify the code as desired, however if it is shown."
   ]
  },
  {
   "cell_type": "code",
   "execution_count": 7,
   "metadata": {},
   "outputs": [],
   "source": [
    "## IMPORTING MODULES (Modules are always loaded in the beginning of the script)\n",
    "import nglview as ng\n",
    "import mdtraj as md"
   ]
  },
  {
   "cell_type": "code",
   "execution_count": 8,
   "metadata": {},
   "outputs": [],
   "source": [
    "## PART 1: LOADING TRAJECTORY (Slow step, load only once)\n",
    "traj = md.load('self_assembly.gro', top='self_assembly.gro')"
   ]
  },
  {
   "cell_type": "markdown",
   "metadata": {},
   "source": [
    "This module demonstrates the self-assembly of amphiphiles in water to form a micelle using a video from an atomistic moleculard dynamics simulation. The structure of the amphiphile is drawn below with the hydrophilic head group of the amphiphiles highlighted in red and the nonpolar tail group highlighted in gray to match the color scheme of the simulation.\n",
    "\n",
    "<img src=\"amphiphile_structure.png\" alt=\"Amphiphile structure\" style=\"width: 350;\"/>"
   ]
  },
  {
   "cell_type": "markdown",
   "metadata": {},
   "source": [
    "The video below illustrates the self-assembly of amphiphiles in water to form a micelle. Water molecules are shown as blue lines, the hydrophilic head groups of the amphiphiles are shown in red, and the nonpolar tail groups are shown in gray. Hydrogen atoms are not drawn for simplicity. The molecules are contained within a simulation cell of fixed volume that uses periodic boundary conditions, meaning that when a molecule exits the box through one side it re-enters the box through the opposite side. You will observe this behavior in the simulation trajectory. The system initially starts as a series of amphiphiles dispersed in solution. Over time, they aggregate and form a single structure called a micelle. In this structure, nonpolar tail groups associate with each other to avoid exposure to water. The video is shown twice below - once with water explicitly shown in blue, and again with the water not shown to more clearly show the amphiphiles. \n",
    "\n",
    "You can manipulate the video by clicking and dragging to rotate, right-clicking and dragging to translate, and using the mouse wheel to zoom-in and out. Pressing r on the keyboard will reset the view. You can play the trajectory and manipulate the specific frame using the scrollbar at bottom."
   ]
  },
  {
   "cell_type": "code",
   "execution_count": 9,
   "metadata": {},
   "outputs": [
    {
     "data": {
      "application/vnd.jupyter.widget-view+json": {
       "model_id": "33819f4469864139818ec52ddb151329",
       "version_major": 2,
       "version_minor": 0
      },
      "text/plain": [
       "NGLWidget(max_frame=179)"
      ]
     },
     "metadata": {},
     "output_type": "display_data"
    }
   ],
   "source": [
    "## PART 2: VISUALIZING SELF-ASSEMBLY WITH WATER PRESENT\n",
    "view = ng.show_mdtraj(traj)\n",
    "view.clear_representations()\n",
    "## CENTERING THE VIEW\n",
    "view.center()\n",
    "\n",
    "# this adds a visualization of water to the system. Add a \"#\" in front of the the next line to remove water.\n",
    "view.add_representation('line', selection='water', color=\"#87ceeb\")\n",
    "\n",
    "# this adds visualization of the amphiphiles to the system\n",
    "view.add_representation('spaceFill', selection='.C3 .C4 .C5 .C6 .C7 .C8 .N .O1 .O2 .O3 .O4 .OH2 .C9', color=\"red\")\n",
    "view.add_representation('spaceFill', selection='.C1 .C2 .C10 .C11 .C12 .C13 .C14 .C15 .C16', color=\"gray\")\n",
    "view.camera = 'orthographic'\n",
    "view"
   ]
  },
  {
   "cell_type": "code",
   "execution_count": 6,
   "metadata": {},
   "outputs": [
    {
     "ename": "NameError",
     "evalue": "name 'traj' is not defined",
     "output_type": "error",
     "traceback": [
      "\u001b[1;31m---------------------------------------------------------------------------\u001b[0m",
      "\u001b[1;31mNameError\u001b[0m                                 Traceback (most recent call last)",
      "\u001b[1;32m<ipython-input-6-bd0331c2fa92>\u001b[0m in \u001b[0;36m<module>\u001b[1;34m\u001b[0m\n\u001b[0;32m      1\u001b[0m \u001b[1;31m## PART 3: VISUALIZING SELF-ASSEMBLY WITH WATER HIDDEN\u001b[0m\u001b[1;33m\u001b[0m\u001b[1;33m\u001b[0m\u001b[1;33m\u001b[0m\u001b[0m\n\u001b[1;32m----> 2\u001b[1;33m \u001b[0mview\u001b[0m \u001b[1;33m=\u001b[0m \u001b[0mng\u001b[0m\u001b[1;33m.\u001b[0m\u001b[0mshow_mdtraj\u001b[0m\u001b[1;33m(\u001b[0m\u001b[0mtraj\u001b[0m\u001b[1;33m)\u001b[0m\u001b[1;33m\u001b[0m\u001b[1;33m\u001b[0m\u001b[0m\n\u001b[0m\u001b[0;32m      3\u001b[0m \u001b[0mview\u001b[0m\u001b[1;33m.\u001b[0m\u001b[0mclear_representations\u001b[0m\u001b[1;33m(\u001b[0m\u001b[1;33m)\u001b[0m\u001b[1;33m\u001b[0m\u001b[1;33m\u001b[0m\u001b[0m\n\u001b[0;32m      4\u001b[0m \u001b[1;31m## CENTERING THE VIEW\u001b[0m\u001b[1;33m\u001b[0m\u001b[1;33m\u001b[0m\u001b[1;33m\u001b[0m\u001b[0m\n\u001b[0;32m      5\u001b[0m \u001b[0mview\u001b[0m\u001b[1;33m.\u001b[0m\u001b[0mcenter\u001b[0m\u001b[1;33m(\u001b[0m\u001b[1;33m)\u001b[0m\u001b[1;33m\u001b[0m\u001b[1;33m\u001b[0m\u001b[0m\n",
      "\u001b[1;31mNameError\u001b[0m: name 'traj' is not defined"
     ]
    }
   ],
   "source": [
    "## PART 3: VISUALIZING SELF-ASSEMBLY WITH WATER HIDDEN\n",
    "view = ng.show_mdtraj(traj)\n",
    "view.clear_representations()\n",
    "## CENTERING THE VIEW\n",
    "view.center()\n",
    "\n",
    "# this adds a visualization of water to the system. Add a \"#\" in front of the the next line to remove water.\n",
    "# view.add_representation('line', selection='water', color=\"#87ceeb\")\n",
    "\n",
    "# this adds visualization of the amphiphiles to the system\n",
    "view.add_representation('spaceFill', selection='.C3 .C4 .C5 .C6 .C7 .C8 .N .O1 .O2 .O3 .O4 .OH2 .C9', color=\"red\")\n",
    "view.add_representation('spaceFill', selection='.C1 .C2 .C10 .C11 .C12 .C13 .C14 .C15 .C16', color=\"gray\")\n",
    "view.camera = 'orthographic'\n",
    "view"
   ]
  },
  {
   "cell_type": "code",
   "execution_count": null,
   "metadata": {},
   "outputs": [],
   "source": []
  }
 ],
 "metadata": {
  "kernelspec": {
   "display_name": "Python 3",
   "language": "python",
   "name": "python3"
  },
  "language_info": {
   "codemirror_mode": {
    "name": "ipython",
    "version": 3
   },
   "file_extension": ".py",
   "mimetype": "text/x-python",
   "name": "python",
   "nbconvert_exporter": "python",
   "pygments_lexer": "ipython3",
   "version": "3.7.6"
  }
 },
 "nbformat": 4,
 "nbformat_minor": 4
}
