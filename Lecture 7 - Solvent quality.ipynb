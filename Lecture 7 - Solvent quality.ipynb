{
 "cells": [
  {
   "cell_type": "markdown",
   "metadata": {},
   "source": [
    "Instructions for using Jupyter Notebook: Go through each cell sequentially and run each code by pressing CTRL + ENTER on Windows or COMMAND + ENTER on Mac. You can run and move to the next cell by pressing SHIFT + ENTER. Alternatively, you can click the \"Run\" button at the top of the interface. Code is displayed if you wish to edit it in any way."
   ]
  },
  {
   "cell_type": "markdown",
   "metadata": {},
   "source": [
    "In this notebook, we will illustrate the effect of the solvent on the fluctuations of a realistic polymer. Specifically, we will look at a single chain of a poplar lignin subunit with the molecular structure shown below. This polymer is one of the major biomass components that is currently being researched for renewable energy applications at UW. The schematic below shows its chemical structure, which is complex - there are multiple different monomers and a branching point. \n",
    "\n",
    "<img src=\"res/L7_lignin_structure.png\" width=\"950\"/>\n",
    "\n",
    "The video below first shows fluctuations of lignin in a good solvent - specifically, dimethylformamide (DMF). The solvent itself is not shown for visual simplificity. You should see the chain tend to extend due to favorable polymer-solvent contacts.\n",
    "\n",
    "You can manipulate the video by clicking and dragging to rotate, right-clicking and dragging to translate, and using the mouse wheel to zoom-in and out. Pressing r on the keyboard will reset the view. You can play the trajectory and manipulate the specific frame using the scrollbar at bottom."
   ]
  },
  {
   "cell_type": "code",
   "execution_count": 1,
   "metadata": {},
   "outputs": [
    {
     "data": {
      "application/vnd.jupyter.widget-view+json": {
       "model_id": "3c40d42b54ca454d8de4d73e10fa1d8c",
       "version_major": 2,
       "version_minor": 0
      },
      "text/plain": []
     },
     "metadata": {},
     "output_type": "display_data"
    },
    {
     "data": {
      "application/vnd.jupyter.widget-view+json": {
       "model_id": "b2429724a94e4488a378a28421e136c1",
       "version_major": 2,
       "version_minor": 0
      },
      "text/plain": [
       "NGLWidget(max_frame=600)"
      ]
     },
     "metadata": {},
     "output_type": "display_data"
    }
   ],
   "source": [
    "import nglview as ng\n",
    "import mdtraj as md\n",
    "\n",
    "traj = md.load('res/lignin_dmf.xtc', top='res/lignin_dmf.gro')\n",
    "view = ng.show_mdtraj(traj)\n",
    "view.clear_representations()\n",
    "view.center()\n",
    "view.add_representation('licorice', selection='all')\n",
    "view"
   ]
  },
  {
   "cell_type": "markdown",
   "metadata": {},
   "source": [
    "We can now see what happens when a lignin chain is placed in a poor solvent - water in this case. The video below shows the same chain in water (not shown). You should see that the polymer tends to fold up more to avoid solvent contact."
   ]
  },
  {
   "cell_type": "code",
   "execution_count": 2,
   "metadata": {},
   "outputs": [
    {
     "data": {
      "application/vnd.jupyter.widget-view+json": {
       "model_id": "c5302a2df8f84ea2997265c68df89167",
       "version_major": 2,
       "version_minor": 0
      },
      "text/plain": [
       "NGLWidget(max_frame=400)"
      ]
     },
     "metadata": {},
     "output_type": "display_data"
    }
   ],
   "source": [
    "traj2 = md.load('res/lignin_wat.xtc', top='res/lignin_wat.gro')\n",
    "view = ng.show_mdtraj(traj2)\n",
    "view.clear_representations()\n",
    "view.center()\n",
    "view.add_representation('licorice', selection='all')\n",
    "view"
   ]
  }
 ],
 "metadata": {
  "kernelspec": {
   "display_name": "Python 3",
   "language": "python",
   "name": "python3"
  },
  "language_info": {
   "codemirror_mode": {
    "name": "ipython",
    "version": 3
   },
   "file_extension": ".py",
   "mimetype": "text/x-python",
   "name": "python",
   "nbconvert_exporter": "python",
   "pygments_lexer": "ipython3",
   "version": "3.7.6"
  }
 },
 "nbformat": 4,
 "nbformat_minor": 4
}
