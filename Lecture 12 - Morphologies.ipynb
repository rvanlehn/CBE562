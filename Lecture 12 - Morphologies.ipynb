{
 "cells": [
  {
   "cell_type": "markdown",
   "metadata": {},
   "source": [
    "Instructions for using Jupyter Notebook: Go through each cell sequentially and run each code by pressing CTRL + ENTER on Windows or COMMAND + ENTER on Mac. You can run and move to the next cell by pressing SHIFT + ENTER. Alternatively, you can click the \"Run\" button at the top of the interface. Code is displayed if you wish to edit it in any way."
   ]
  },
  {
   "cell_type": "markdown",
   "metadata": {},
   "source": [
    "These videos will show three common morphologies observed for self-assembled structures: spherical micelles, cylindrical micelles (also called wormlike micelles), and bilayers. We will first show the self-assembly of a spherical micelle (from last lecture) then contrast the other two morphologies against this first one."
   ]
  },
  {
   "cell_type": "code",
   "execution_count": 5,
   "metadata": {},
   "outputs": [
    {
     "data": {
      "application/vnd.jupyter.widget-view+json": {
       "model_id": "f09b19e5856347dc9e14e0ed65d96151",
       "version_major": 2,
       "version_minor": 0
      },
      "text/plain": [
       "NGLWidget(max_frame=258)"
      ]
     },
     "metadata": {},
     "output_type": "display_data"
    }
   ],
   "source": [
    "import nglview as ng\n",
    "import mdtraj as md\n",
    "\n",
    "trajsphere = md.load('res/L11_sphere_nowat.xtc', top='res/L11_sphere_nowat.gro')\n",
    "\n",
    "view = ng.show_mdtraj(trajsphere)\n",
    "view.clear_representations()\n",
    "## CENTERING THE VIEW\n",
    "view.center()\n",
    "\n",
    "# this adds visualization of the amphiphiles to the system\n",
    "view.add_representation('spaceFill', selection='.C3 .C4 .C5 .C6 .C7 .C8 .N .O1 .O2 .O3 .O4 .OH2 .C9', color=\"red\")\n",
    "view.add_representation('spaceFill', selection='.C1 .C2 .C10 .C11 .C12 .C13 .C14 .C15 .C16', color=\"gray\")\n",
    "view.camera = 'orthographic'\n",
    "view"
   ]
  },
  {
   "cell_type": "code",
   "execution_count": 6,
   "metadata": {},
   "outputs": [
    {
     "data": {
      "application/vnd.jupyter.widget-view+json": {
       "model_id": "ed9a8c55a5bc4a5db2535f61e4b3a435",
       "version_major": 2,
       "version_minor": 0
      },
      "text/plain": [
       "NGLWidget(max_frame=200)"
      ]
     },
     "metadata": {},
     "output_type": "display_data"
    }
   ],
   "source": [
    "trajcyl = md.load('res/L12_cylinder.xtc', top='res/L12_cylinder.gro')\n",
    "\n",
    "view = ng.show_mdtraj(trajcyl)\n",
    "view.clear_representations()\n",
    "## CENTERING THE VIEW\n",
    "view.center()\n",
    "\n",
    "# this adds visualization of the amphiphiles to the system\n",
    "view.add_representation('spaceFill', selection=' .N .O1 .O2 .O3 .O4 .OH2 .C8 .C9 .C10 .C11 .C12', color=\"red\")\n",
    "view.add_representation('spaceFill', selection='.C1 .C2 .C3 .C4 .C5 .C6 .C7 ', color=\"gray\")\n",
    "view.camera = 'orthographic'\n",
    "view"
   ]
  },
  {
   "cell_type": "code",
   "execution_count": 7,
   "metadata": {},
   "outputs": [
    {
     "data": {
      "application/vnd.jupyter.widget-view+json": {
       "model_id": "eb10680407424aa08ed74e3c21da0117",
       "version_major": 2,
       "version_minor": 0
      },
      "text/plain": [
       "NGLWidget(max_frame=200)"
      ]
     },
     "metadata": {},
     "output_type": "display_data"
    }
   ],
   "source": [
    "trajbilayer = md.load('res/L12_bilayer.xtc', top='res/L12_bilayer.gro')\n",
    "\n",
    "view = ng.show_mdtraj(trajbilayer)\n",
    "view.clear_representations()\n",
    "## CENTERING THE VIEW\n",
    "view.center()\n",
    "\n",
    "# this adds visualization of the amphiphiles to the system\n",
    "view.add_representation('spaceFill', selection=' .N .O1 .O2 .O3 .O4 .OH2 .C9 .C10 .C11 .C12', color=\"red\")\n",
    "view.add_representation('spaceFill', selection='.C1 .C2 .C3 .C4 .C5 .C6 .C7 .C8 .C14 .C15 .C16 .C17 .C18 .C19 .C20', color=\"gray\")\n",
    "view.camera = 'orthographic'\n",
    "view"
   ]
  },
  {
   "cell_type": "code",
   "execution_count": null,
   "metadata": {},
   "outputs": [],
   "source": []
  }
 ],
 "metadata": {
  "kernelspec": {
   "display_name": "Python 3",
   "language": "python",
   "name": "python3"
  },
  "language_info": {
   "codemirror_mode": {
    "name": "ipython",
    "version": 3
   },
   "file_extension": ".py",
   "mimetype": "text/x-python",
   "name": "python",
   "nbconvert_exporter": "python",
   "pygments_lexer": "ipython3",
   "version": "3.7.6"
  }
 },
 "nbformat": 4,
 "nbformat_minor": 4
}
