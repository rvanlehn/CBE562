{
 "cells": [
  {
   "cell_type": "markdown",
   "metadata": {},
   "source": [
    "Instructions for using Jupyter Notebook: Go through each cell sequentially and run each code by pressing CTRL + ENTER on Windows or COMMAND + ENTER on Mac. You can run and move to the next cell by pressing SHIFT + ENTER. Alternatively, you can click the \"Run\" button at the top of the interface. Code is displayed if you wish to edit it in any way."
   ]
  },
  {
   "cell_type": "markdown",
   "metadata": {},
   "source": [
    "This module demonstrates the aggregation of methane molecules in water. A single methane molecule has a radius of about 0.3 nm, which lies within the \"small\" length scale regime of hydrophobicity. Small numbers of methane molecules thus do not prefer to aggregate because doing so does not substantially decrease the total hydration free energy of the system. The video below shows 30 methane molecules in water. The simulation proceeds at room temperature and the methane molecules tend to stay dispersed. Methane molecules are shown as single red balls and water as blue points. \n",
    "\n",
    "You can manipulate the video by clicking and dragging to rotate, right-clicking and dragging to translate, and using the mouse wheel to zoom-in and out. Pressing r on the keyboard will reset the view. You can play the trajectory and manipulate the specific frame using the scrollbar at bottom."
   ]
  },
  {
   "cell_type": "code",
   "execution_count": 1,
   "metadata": {},
   "outputs": [
    {
     "data": {
      "application/vnd.jupyter.widget-view+json": {
       "model_id": "b4907853aaa14d3f882fe8cfb8205781",
       "version_major": 2,
       "version_minor": 0
      },
      "text/plain": []
     },
     "metadata": {},
     "output_type": "display_data"
    },
    {
     "data": {
      "application/vnd.jupyter.widget-view+json": {
       "model_id": "60e47ca80b9c4b3194da6bd7326464d0",
       "version_major": 2,
       "version_minor": 0
      },
      "text/plain": [
       "NGLWidget(max_frame=200)"
      ]
     },
     "metadata": {},
     "output_type": "display_data"
    }
   ],
   "source": [
    "import nglview as ng\n",
    "import mdtraj as md\n",
    "\n",
    "traj30 = md.load('res/L10_methane_30.xtc', top='res/L10_methane_30.gro')\n",
    "traj50 = md.load('res/L10_methane_50.xtc', top='res/L10_methane_50.gro')\n",
    "\n",
    "view = ng.show_mdtraj(traj30)\n",
    "view.clear_representations()\n",
    "## CENTERING THE VIEW\n",
    "view.center()\n",
    "\n",
    "# this adds a visualization of water to the system. Add a \"#\" in front of the the next line to remove water.\n",
    "view.add_representation('point', selection='water', color=\"#87ceeb\")\n",
    "\n",
    "# this adds visualization of the amphiphiles to the system\n",
    "view.add_representation('spaceFill', selection='.C', color=\"red\")\n",
    "view.camera = 'orthographic'\n",
    "view"
   ]
  },
  {
   "cell_type": "markdown",
   "metadata": {},
   "source": [
    "Now, we increase the number of methane molecules to 50 and perform the same simulation. You should observe most of the methane molecules aggregate together to form a single cluster near the middle of the system by the end of the video.\n",
    "\n",
    "You can manipulate the video by clicking and dragging to rotate, right-clicking and dragging to translate, and using the mouse wheel to zoom-in and out. Pressing r on the keyboard will reset the view. You can play the trajectory and manipulate the specific frame using the scrollbar at bottom."
   ]
  },
  {
   "cell_type": "code",
   "execution_count": 2,
   "metadata": {},
   "outputs": [
    {
     "data": {
      "application/vnd.jupyter.widget-view+json": {
       "model_id": "33d111b279b1485d8a98a468fb05d658",
       "version_major": 2,
       "version_minor": 0
      },
      "text/plain": [
       "NGLWidget(max_frame=200)"
      ]
     },
     "metadata": {},
     "output_type": "display_data"
    }
   ],
   "source": [
    "view = ng.show_mdtraj(traj50)\n",
    "view.clear_representations()\n",
    "## CENTERING THE VIEW\n",
    "view.center()\n",
    "\n",
    "# this adds a visualization of water to the system. Add a \"#\" in front of the the next line to remove water.\n",
    "view.add_representation('point', selection='water', color=\"#87ceeb\")\n",
    "\n",
    "# this adds visualization of the amphiphiles to the system\n",
    "view.add_representation('spaceFill', selection='.C', color=\"red\")\n",
    "view.camera = 'orthographic'\n",
    "view"
   ]
  },
  {
   "cell_type": "markdown",
   "metadata": {},
   "source": [
    "We can understand this difference in behavior by estimating the radius of the (approximately) spherical aggregate formed. The aggregate is approximately 4-6 methane molecules across, corresponding to a radius of 1.2-1.8 nm. This radius is larger than the crossover radius for large length scale hydrophobicity (~1 nm), so the hydration free energy now scales with the surface area of the cluster rather than the volume of the individual methane molecules. Clustering then leads to a net reduction of the hydration free energy."
   ]
  }
 ],
 "metadata": {
  "kernelspec": {
   "display_name": "Python 3",
   "language": "python",
   "name": "python3"
  },
  "language_info": {
   "codemirror_mode": {
    "name": "ipython",
    "version": 3
   },
   "file_extension": ".py",
   "mimetype": "text/x-python",
   "name": "python",
   "nbconvert_exporter": "python",
   "pygments_lexer": "ipython3",
   "version": "3.7.6"
  }
 },
 "nbformat": 4,
 "nbformat_minor": 4
}
