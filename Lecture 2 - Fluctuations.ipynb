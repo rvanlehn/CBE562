{
 "cells": [
  {
   "cell_type": "markdown",
   "metadata": {},
   "source": [
    "Instructions for using Jupyter Notebook: Go through each cell sequentially and run each code by pressing CTRL + ENTER on Windows or COMMAND + ENTER on Mac. You can run and move to the next cell by pressing SHIFT + ENTER. Alternatively, you can click the \"Run\" button at the top of the interface. Code is displayed if you wish to edit it in any way."
   ]
  },
  {
   "cell_type": "markdown",
   "metadata": {},
   "source": [
    "The video below illustrates a molecular dynamics simulation trajectory of acetone in the liquid-phase. Molecules are confined with a simulation box and move according to Newton's equation of motion; since this requires calculations of forces and velocities, the pressure and temperature can also be computed for every simulation configuration.\n",
    "\n",
    "You can manipulate the video by clicking and dragging to rotate, right-clicking and dragging to translate, and using the mouse wheel to zoom-in and out. Pressing r on the keyboard will reset the view. You can play the trajectory and manipulate the specific frame using the scrollbar at bottom."
   ]
  },
  {
   "cell_type": "code",
   "execution_count": 5,
   "metadata": {},
   "outputs": [
    {
     "data": {
      "application/vnd.jupyter.widget-view+json": {
       "model_id": "cf9d8afe676b4b869f5aff531a130e76",
       "version_major": 2,
       "version_minor": 0
      },
      "text/plain": [
       "NGLWidget(max_frame=50)"
      ]
     },
     "metadata": {},
     "output_type": "display_data"
    }
   ],
   "source": [
    "import nglview as ng\n",
    "import mdtraj as md\n",
    "traj = md.load('res/L2_acetone.xtc', top='res/L2_acetone.pdb')\n",
    "view = ng.show_mdtraj(traj)\n",
    "view.clear_representations()\n",
    "view.add_representation('spaceFill', selection='all')\n",
    "view"
   ]
  },
  {
   "cell_type": "markdown",
   "metadata": {},
   "source": [
    "Focusing on the pressure, we can compute the pressure at every timestep of the simulation to record its fluctuations with time. The plot below shows the values that would be obtained from a longer version of the simulation above. The pressure fluctuates randomly around its average value (shown as a dashed horizontal line and corresponding to approximately 1 bar).\n",
    "\n",
    "<img src=\"res/L2_time.png\" width=\"550\"/>\n",
    "\n",
    "Alternatively, we could imagine computing the probability with which each value of the pressure is obtained by using a histogram to count the frequency with which values of the pressure are observed in the simulation. Doing so yields the following (unnormalized histogram). For comparison, a Gaussian fit to the distribution is drawn as a line and a vertical dashed line indicates the average value of the Gaussian distribution.\n",
    "\n",
    "<img src=\"res/L2_histogram.png\" width=\"550\"/>\n",
    "\n",
    "These two plots illustrate the concept of ergodicity - we can envision a MD simulation as transition between a series of configurations that are all part of a statistical ensemble, such that averaging quantities over time are equivalent to sampling configurations from an underlying probability distribution given by the histogram. Accordingly, the temporal fluctuations observed in the plot of pressure vs. time are related to the width of the underlying distribution."
   ]
  }
 ],
 "metadata": {
  "kernelspec": {
   "display_name": "Python 3",
   "language": "python",
   "name": "python3"
  },
  "language_info": {
   "codemirror_mode": {
    "name": "ipython",
    "version": 3
   },
   "file_extension": ".py",
   "mimetype": "text/x-python",
   "name": "python",
   "nbconvert_exporter": "python",
   "pygments_lexer": "ipython3",
   "version": "3.7.6"
  }
 },
 "nbformat": 4,
 "nbformat_minor": 4
}
